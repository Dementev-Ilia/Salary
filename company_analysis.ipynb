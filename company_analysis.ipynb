{
 "cells": [
  {
   "cell_type": "code",
   "execution_count": 1,
   "metadata": {},
   "outputs": [],
   "source": [
    "import numpy as np\n",
    "import pandas as pd\n",
    "import matplotlib.pyplot as plt\n",
    "import seaborn as sn\n",
    "\n",
    "import warnings\n",
    "warnings.filterwarnings('ignore')"
   ]
  },
  {
   "cell_type": "markdown",
   "metadata": {},
   "source": [
    "# Загрузка и предварительная обработка данных "
   ]
  },
  {
   "cell_type": "code",
   "execution_count": 2,
   "metadata": {},
   "outputs": [],
   "source": [
    "data = pd.read_excel('./data/company.xlsx')"
   ]
  },
  {
   "cell_type": "code",
   "execution_count": 3,
   "metadata": {},
   "outputs": [
    {
     "data": {
      "text/html": [
       "<div>\n",
       "<style scoped>\n",
       "    .dataframe tbody tr th:only-of-type {\n",
       "        vertical-align: middle;\n",
       "    }\n",
       "\n",
       "    .dataframe tbody tr th {\n",
       "        vertical-align: top;\n",
       "    }\n",
       "\n",
       "    .dataframe thead th {\n",
       "        text-align: right;\n",
       "    }\n",
       "</style>\n",
       "<table border=\"1\" class=\"dataframe\">\n",
       "  <thead>\n",
       "    <tr style=\"text-align: right;\">\n",
       "      <th></th>\n",
       "      <th>ID</th>\n",
       "      <th>Дата регистрации</th>\n",
       "      <th>Вид деятельности</th>\n",
       "      <th>Размер компании</th>\n",
       "      <th>Уставный капитал, млн RUB</th>\n",
       "      <th>Налоги, млн RUB</th>\n",
       "      <th>Страховые взносы в ПФР, млн RUB</th>\n",
       "      <th>Страховые взносы в ФОМС, млн RUB</th>\n",
       "      <th>Страховые взносы в ФСС, млн RUB</th>\n",
       "      <th>Основные средства , млн RUB</th>\n",
       "      <th>Чистые активы, млн RUB</th>\n",
       "      <th>Запасы, млн RUB</th>\n",
       "      <th>Выручка, млн RUB</th>\n",
       "      <th>Чистая прибыль (убыток), млн RUB</th>\n",
       "      <th>Среднесписочная численность работников</th>\n",
       "      <th>Оплата труда, млн RUB</th>\n",
       "    </tr>\n",
       "  </thead>\n",
       "  <tbody>\n",
       "    <tr>\n",
       "      <th>0</th>\n",
       "      <td>1-2CN8JI</td>\n",
       "      <td>1997-03-06</td>\n",
       "      <td>Ремонт и техническое обслуживание летательных ...</td>\n",
       "      <td>Крупные предприятия</td>\n",
       "      <td>354.58</td>\n",
       "      <td>NaN</td>\n",
       "      <td>NaN</td>\n",
       "      <td>NaN</td>\n",
       "      <td>NaN</td>\n",
       "      <td>390.0</td>\n",
       "      <td>1529</td>\n",
       "      <td>1539.0</td>\n",
       "      <td>2322</td>\n",
       "      <td>518.0</td>\n",
       "      <td>251 - 500</td>\n",
       "      <td>469</td>\n",
       "    </tr>\n",
       "    <tr>\n",
       "      <th>1</th>\n",
       "      <td>1-1ESSMI0W</td>\n",
       "      <td>1995-05-25</td>\n",
       "      <td>Деятельность больничных организаций</td>\n",
       "      <td>Крупные предприятия</td>\n",
       "      <td>0.17</td>\n",
       "      <td>390.0</td>\n",
       "      <td>279.0</td>\n",
       "      <td>77.0</td>\n",
       "      <td>9.0</td>\n",
       "      <td>1824.0</td>\n",
       "      <td>2847</td>\n",
       "      <td>116.0</td>\n",
       "      <td>3373</td>\n",
       "      <td>245.0</td>\n",
       "      <td>1202</td>\n",
       "      <td>1912</td>\n",
       "    </tr>\n",
       "    <tr>\n",
       "      <th>2</th>\n",
       "      <td>1-OZWLA</td>\n",
       "      <td>1993-03-04</td>\n",
       "      <td>Научные исследования и разработки в области ес...</td>\n",
       "      <td>Средние предприятия</td>\n",
       "      <td>0.06</td>\n",
       "      <td>NaN</td>\n",
       "      <td>NaN</td>\n",
       "      <td>NaN</td>\n",
       "      <td>NaN</td>\n",
       "      <td>1305.0</td>\n",
       "      <td>1515</td>\n",
       "      <td>745.0</td>\n",
       "      <td>1181</td>\n",
       "      <td>5.0</td>\n",
       "      <td>875</td>\n",
       "      <td>577</td>\n",
       "    </tr>\n",
       "    <tr>\n",
       "      <th>3</th>\n",
       "      <td>1-BD0B7</td>\n",
       "      <td>1997-04-16</td>\n",
       "      <td>Торговля розничная одеждой в специализированны...</td>\n",
       "      <td>Крупные предприятия</td>\n",
       "      <td>9.01</td>\n",
       "      <td>743.0</td>\n",
       "      <td>209.0</td>\n",
       "      <td>50.0</td>\n",
       "      <td>NaN</td>\n",
       "      <td>35.0</td>\n",
       "      <td>7312</td>\n",
       "      <td>3470.0</td>\n",
       "      <td>10012</td>\n",
       "      <td>585.0</td>\n",
       "      <td>2035</td>\n",
       "      <td>1259</td>\n",
       "    </tr>\n",
       "    <tr>\n",
       "      <th>4</th>\n",
       "      <td>1-MDDDW</td>\n",
       "      <td>1994-08-24</td>\n",
       "      <td>Перевозка воздушным пассажирским транспортом, ...</td>\n",
       "      <td>Крупные предприятия</td>\n",
       "      <td>918.90</td>\n",
       "      <td>NaN</td>\n",
       "      <td>NaN</td>\n",
       "      <td>NaN</td>\n",
       "      <td>NaN</td>\n",
       "      <td>3747.0</td>\n",
       "      <td>7362</td>\n",
       "      <td>6557.0</td>\n",
       "      <td>114517</td>\n",
       "      <td>1648.0</td>\n",
       "      <td>&gt; 5 000</td>\n",
       "      <td>12725</td>\n",
       "    </tr>\n",
       "  </tbody>\n",
       "</table>\n",
       "</div>"
      ],
      "text/plain": [
       "           ID Дата регистрации  \\\n",
       "0    1-2CN8JI       1997-03-06   \n",
       "1  1-1ESSMI0W       1995-05-25   \n",
       "2     1-OZWLA       1993-03-04   \n",
       "3     1-BD0B7       1997-04-16   \n",
       "4     1-MDDDW       1994-08-24   \n",
       "\n",
       "                                    Вид деятельности      Размер компании  \\\n",
       "0  Ремонт и техническое обслуживание летательных ...  Крупные предприятия   \n",
       "1                Деятельность больничных организаций  Крупные предприятия   \n",
       "2  Научные исследования и разработки в области ес...  Средние предприятия   \n",
       "3  Торговля розничная одеждой в специализированны...  Крупные предприятия   \n",
       "4  Перевозка воздушным пассажирским транспортом, ...  Крупные предприятия   \n",
       "\n",
       "   Уставный капитал, млн RUB  Налоги, млн RUB  \\\n",
       "0                     354.58              NaN   \n",
       "1                       0.17            390.0   \n",
       "2                       0.06              NaN   \n",
       "3                       9.01            743.0   \n",
       "4                     918.90              NaN   \n",
       "\n",
       "   Страховые взносы в ПФР, млн RUB  Страховые взносы в ФОМС, млн RUB  \\\n",
       "0                              NaN                               NaN   \n",
       "1                            279.0                              77.0   \n",
       "2                              NaN                               NaN   \n",
       "3                            209.0                              50.0   \n",
       "4                              NaN                               NaN   \n",
       "\n",
       "   Страховые взносы в ФСС, млн RUB  Основные средства , млн RUB  \\\n",
       "0                              NaN                        390.0   \n",
       "1                              9.0                       1824.0   \n",
       "2                              NaN                       1305.0   \n",
       "3                              NaN                         35.0   \n",
       "4                              NaN                       3747.0   \n",
       "\n",
       "   Чистые активы, млн RUB  Запасы, млн RUB  Выручка, млн RUB  \\\n",
       "0                    1529           1539.0              2322   \n",
       "1                    2847            116.0              3373   \n",
       "2                    1515            745.0              1181   \n",
       "3                    7312           3470.0             10012   \n",
       "4                    7362           6557.0            114517   \n",
       "\n",
       "   Чистая прибыль (убыток), млн RUB Среднесписочная численность работников  \\\n",
       "0                             518.0                              251 - 500   \n",
       "1                             245.0                                   1202   \n",
       "2                               5.0                                    875   \n",
       "3                             585.0                                   2035   \n",
       "4                            1648.0                                > 5 000   \n",
       "\n",
       "   Оплата труда, млн RUB  \n",
       "0                    469  \n",
       "1                   1912  \n",
       "2                    577  \n",
       "3                   1259  \n",
       "4                  12725  "
      ]
     },
     "execution_count": 3,
     "metadata": {},
     "output_type": "execute_result"
    }
   ],
   "source": [
    "data.head()"
   ]
  },
  {
   "cell_type": "code",
   "execution_count": 4,
   "metadata": {},
   "outputs": [],
   "source": [
    "data = data.set_index(['ID'])"
   ]
  },
  {
   "cell_type": "code",
   "execution_count": 5,
   "metadata": {},
   "outputs": [],
   "source": [
    "#размер компании сильно коррелирует с выручкой компании\n",
    "#Вид деятельности -очень вариативный показатель, пока удалим так как есть опасения в сложностях дальнейшего масштабирования мобели\n",
    "#Планирую в последствии реализовать механизм предобработки признака по видам деятельности\n",
    "data.drop(['Вид деятельности', 'Размер компании', 'Дата регистрации'], axis='columns', inplace=True)"
   ]
  },
  {
   "cell_type": "code",
   "execution_count": 6,
   "metadata": {},
   "outputs": [
    {
     "data": {
      "text/html": [
       "<div>\n",
       "<style scoped>\n",
       "    .dataframe tbody tr th:only-of-type {\n",
       "        vertical-align: middle;\n",
       "    }\n",
       "\n",
       "    .dataframe tbody tr th {\n",
       "        vertical-align: top;\n",
       "    }\n",
       "\n",
       "    .dataframe thead th {\n",
       "        text-align: right;\n",
       "    }\n",
       "</style>\n",
       "<table border=\"1\" class=\"dataframe\">\n",
       "  <thead>\n",
       "    <tr style=\"text-align: right;\">\n",
       "      <th></th>\n",
       "      <th>Уставный капитал, млн RUB</th>\n",
       "      <th>Налоги, млн RUB</th>\n",
       "      <th>Страховые взносы в ПФР, млн RUB</th>\n",
       "      <th>Страховые взносы в ФОМС, млн RUB</th>\n",
       "      <th>Страховые взносы в ФСС, млн RUB</th>\n",
       "      <th>Основные средства , млн RUB</th>\n",
       "      <th>Чистые активы, млн RUB</th>\n",
       "      <th>Запасы, млн RUB</th>\n",
       "      <th>Выручка, млн RUB</th>\n",
       "      <th>Чистая прибыль (убыток), млн RUB</th>\n",
       "      <th>Среднесписочная численность работников</th>\n",
       "      <th>Оплата труда, млн RUB</th>\n",
       "    </tr>\n",
       "    <tr>\n",
       "      <th>ID</th>\n",
       "      <th></th>\n",
       "      <th></th>\n",
       "      <th></th>\n",
       "      <th></th>\n",
       "      <th></th>\n",
       "      <th></th>\n",
       "      <th></th>\n",
       "      <th></th>\n",
       "      <th></th>\n",
       "      <th></th>\n",
       "      <th></th>\n",
       "      <th></th>\n",
       "    </tr>\n",
       "  </thead>\n",
       "  <tbody>\n",
       "    <tr>\n",
       "      <th>1-2CN8JI</th>\n",
       "      <td>354.58</td>\n",
       "      <td>NaN</td>\n",
       "      <td>NaN</td>\n",
       "      <td>NaN</td>\n",
       "      <td>NaN</td>\n",
       "      <td>390.0</td>\n",
       "      <td>1529</td>\n",
       "      <td>1539.0</td>\n",
       "      <td>2322</td>\n",
       "      <td>518.0</td>\n",
       "      <td>251 - 500</td>\n",
       "      <td>469</td>\n",
       "    </tr>\n",
       "    <tr>\n",
       "      <th>1-1ESSMI0W</th>\n",
       "      <td>0.17</td>\n",
       "      <td>390.0</td>\n",
       "      <td>279.0</td>\n",
       "      <td>77.0</td>\n",
       "      <td>9.0</td>\n",
       "      <td>1824.0</td>\n",
       "      <td>2847</td>\n",
       "      <td>116.0</td>\n",
       "      <td>3373</td>\n",
       "      <td>245.0</td>\n",
       "      <td>1202</td>\n",
       "      <td>1912</td>\n",
       "    </tr>\n",
       "    <tr>\n",
       "      <th>1-OZWLA</th>\n",
       "      <td>0.06</td>\n",
       "      <td>NaN</td>\n",
       "      <td>NaN</td>\n",
       "      <td>NaN</td>\n",
       "      <td>NaN</td>\n",
       "      <td>1305.0</td>\n",
       "      <td>1515</td>\n",
       "      <td>745.0</td>\n",
       "      <td>1181</td>\n",
       "      <td>5.0</td>\n",
       "      <td>875</td>\n",
       "      <td>577</td>\n",
       "    </tr>\n",
       "    <tr>\n",
       "      <th>1-BD0B7</th>\n",
       "      <td>9.01</td>\n",
       "      <td>743.0</td>\n",
       "      <td>209.0</td>\n",
       "      <td>50.0</td>\n",
       "      <td>NaN</td>\n",
       "      <td>35.0</td>\n",
       "      <td>7312</td>\n",
       "      <td>3470.0</td>\n",
       "      <td>10012</td>\n",
       "      <td>585.0</td>\n",
       "      <td>2035</td>\n",
       "      <td>1259</td>\n",
       "    </tr>\n",
       "    <tr>\n",
       "      <th>1-MDDDW</th>\n",
       "      <td>918.90</td>\n",
       "      <td>NaN</td>\n",
       "      <td>NaN</td>\n",
       "      <td>NaN</td>\n",
       "      <td>NaN</td>\n",
       "      <td>3747.0</td>\n",
       "      <td>7362</td>\n",
       "      <td>6557.0</td>\n",
       "      <td>114517</td>\n",
       "      <td>1648.0</td>\n",
       "      <td>&gt; 5 000</td>\n",
       "      <td>12725</td>\n",
       "    </tr>\n",
       "  </tbody>\n",
       "</table>\n",
       "</div>"
      ],
      "text/plain": [
       "            Уставный капитал, млн RUB  Налоги, млн RUB  \\\n",
       "ID                                                       \n",
       "1-2CN8JI                       354.58              NaN   \n",
       "1-1ESSMI0W                       0.17            390.0   \n",
       "1-OZWLA                          0.06              NaN   \n",
       "1-BD0B7                          9.01            743.0   \n",
       "1-MDDDW                        918.90              NaN   \n",
       "\n",
       "            Страховые взносы в ПФР, млн RUB  Страховые взносы в ФОМС, млн RUB  \\\n",
       "ID                                                                              \n",
       "1-2CN8JI                                NaN                               NaN   \n",
       "1-1ESSMI0W                            279.0                              77.0   \n",
       "1-OZWLA                                 NaN                               NaN   \n",
       "1-BD0B7                               209.0                              50.0   \n",
       "1-MDDDW                                 NaN                               NaN   \n",
       "\n",
       "            Страховые взносы в ФСС, млн RUB  Основные средства , млн RUB  \\\n",
       "ID                                                                         \n",
       "1-2CN8JI                                NaN                        390.0   \n",
       "1-1ESSMI0W                              9.0                       1824.0   \n",
       "1-OZWLA                                 NaN                       1305.0   \n",
       "1-BD0B7                                 NaN                         35.0   \n",
       "1-MDDDW                                 NaN                       3747.0   \n",
       "\n",
       "            Чистые активы, млн RUB  Запасы, млн RUB  Выручка, млн RUB  \\\n",
       "ID                                                                      \n",
       "1-2CN8JI                      1529           1539.0              2322   \n",
       "1-1ESSMI0W                    2847            116.0              3373   \n",
       "1-OZWLA                       1515            745.0              1181   \n",
       "1-BD0B7                       7312           3470.0             10012   \n",
       "1-MDDDW                       7362           6557.0            114517   \n",
       "\n",
       "            Чистая прибыль (убыток), млн RUB  \\\n",
       "ID                                             \n",
       "1-2CN8JI                               518.0   \n",
       "1-1ESSMI0W                             245.0   \n",
       "1-OZWLA                                  5.0   \n",
       "1-BD0B7                                585.0   \n",
       "1-MDDDW                               1648.0   \n",
       "\n",
       "           Среднесписочная численность работников  Оплата труда, млн RUB  \n",
       "ID                                                                        \n",
       "1-2CN8JI                                251 - 500                    469  \n",
       "1-1ESSMI0W                                   1202                   1912  \n",
       "1-OZWLA                                       875                    577  \n",
       "1-BD0B7                                      2035                   1259  \n",
       "1-MDDDW                                   > 5 000                  12725  "
      ]
     },
     "execution_count": 6,
     "metadata": {},
     "output_type": "execute_result"
    }
   ],
   "source": [
    "data.head()"
   ]
  },
  {
   "cell_type": "code",
   "execution_count": 7,
   "metadata": {},
   "outputs": [
    {
     "data": {
      "text/plain": [
       "(354, 12)"
      ]
     },
     "execution_count": 7,
     "metadata": {},
     "output_type": "execute_result"
    }
   ],
   "source": [
    "data.shape"
   ]
  },
  {
   "cell_type": "code",
   "execution_count": 8,
   "metadata": {},
   "outputs": [
    {
     "data": {
      "text/html": [
       "<div>\n",
       "<style scoped>\n",
       "    .dataframe tbody tr th:only-of-type {\n",
       "        vertical-align: middle;\n",
       "    }\n",
       "\n",
       "    .dataframe tbody tr th {\n",
       "        vertical-align: top;\n",
       "    }\n",
       "\n",
       "    .dataframe thead th {\n",
       "        text-align: right;\n",
       "    }\n",
       "</style>\n",
       "<table border=\"1\" class=\"dataframe\">\n",
       "  <thead>\n",
       "    <tr style=\"text-align: right;\">\n",
       "      <th></th>\n",
       "      <th>Уставный капитал, млн RUB</th>\n",
       "      <th>Налоги, млн RUB</th>\n",
       "      <th>Страховые взносы в ПФР, млн RUB</th>\n",
       "      <th>Страховые взносы в ФОМС, млн RUB</th>\n",
       "      <th>Страховые взносы в ФСС, млн RUB</th>\n",
       "      <th>Основные средства , млн RUB</th>\n",
       "      <th>Чистые активы, млн RUB</th>\n",
       "      <th>Запасы, млн RUB</th>\n",
       "      <th>Выручка, млн RUB</th>\n",
       "      <th>Чистая прибыль (убыток), млн RUB</th>\n",
       "      <th>Оплата труда, млн RUB</th>\n",
       "    </tr>\n",
       "  </thead>\n",
       "  <tbody>\n",
       "    <tr>\n",
       "      <th>count</th>\n",
       "      <td>354.000000</td>\n",
       "      <td>219.000000</td>\n",
       "      <td>219.000000</td>\n",
       "      <td>219.000000</td>\n",
       "      <td>199.000000</td>\n",
       "      <td>352.000000</td>\n",
       "      <td>354.000000</td>\n",
       "      <td>350.000000</td>\n",
       "      <td>3.540000e+02</td>\n",
       "      <td>353.000000</td>\n",
       "      <td>354.000000</td>\n",
       "    </tr>\n",
       "    <tr>\n",
       "      <th>mean</th>\n",
       "      <td>3631.314237</td>\n",
       "      <td>542.374429</td>\n",
       "      <td>153.872146</td>\n",
       "      <td>44.105023</td>\n",
       "      <td>5.904523</td>\n",
       "      <td>7477.903409</td>\n",
       "      <td>9687.426554</td>\n",
       "      <td>2492.577143</td>\n",
       "      <td>1.850670e+04</td>\n",
       "      <td>834.467422</td>\n",
       "      <td>2062.983051</td>\n",
       "    </tr>\n",
       "    <tr>\n",
       "      <th>std</th>\n",
       "      <td>25354.505264</td>\n",
       "      <td>1024.778815</td>\n",
       "      <td>215.911068</td>\n",
       "      <td>56.235032</td>\n",
       "      <td>12.023375</td>\n",
       "      <td>29896.097929</td>\n",
       "      <td>41433.184453</td>\n",
       "      <td>7613.135442</td>\n",
       "      <td>6.589110e+04</td>\n",
       "      <td>4742.006692</td>\n",
       "      <td>6407.350212</td>\n",
       "    </tr>\n",
       "    <tr>\n",
       "      <th>min</th>\n",
       "      <td>0.000000</td>\n",
       "      <td>60.000000</td>\n",
       "      <td>19.000000</td>\n",
       "      <td>4.000000</td>\n",
       "      <td>0.000000</td>\n",
       "      <td>0.000000</td>\n",
       "      <td>-13777.000000</td>\n",
       "      <td>0.000000</td>\n",
       "      <td>8.070000e+02</td>\n",
       "      <td>-52138.000000</td>\n",
       "      <td>401.000000</td>\n",
       "    </tr>\n",
       "    <tr>\n",
       "      <th>25%</th>\n",
       "      <td>0.100000</td>\n",
       "      <td>207.000000</td>\n",
       "      <td>76.000000</td>\n",
       "      <td>22.000000</td>\n",
       "      <td>1.000000</td>\n",
       "      <td>100.750000</td>\n",
       "      <td>363.250000</td>\n",
       "      <td>83.250000</td>\n",
       "      <td>2.038250e+03</td>\n",
       "      <td>29.000000</td>\n",
       "      <td>554.750000</td>\n",
       "    </tr>\n",
       "    <tr>\n",
       "      <th>50%</th>\n",
       "      <td>9.175000</td>\n",
       "      <td>334.000000</td>\n",
       "      <td>110.000000</td>\n",
       "      <td>31.000000</td>\n",
       "      <td>3.000000</td>\n",
       "      <td>540.000000</td>\n",
       "      <td>1378.000000</td>\n",
       "      <td>599.000000</td>\n",
       "      <td>4.636000e+03</td>\n",
       "      <td>150.000000</td>\n",
       "      <td>836.000000</td>\n",
       "    </tr>\n",
       "    <tr>\n",
       "      <th>75%</th>\n",
       "      <td>456.857500</td>\n",
       "      <td>554.000000</td>\n",
       "      <td>164.500000</td>\n",
       "      <td>44.500000</td>\n",
       "      <td>5.500000</td>\n",
       "      <td>2782.000000</td>\n",
       "      <td>4278.500000</td>\n",
       "      <td>1993.500000</td>\n",
       "      <td>1.130100e+04</td>\n",
       "      <td>612.000000</td>\n",
       "      <td>1452.500000</td>\n",
       "    </tr>\n",
       "    <tr>\n",
       "      <th>max</th>\n",
       "      <td>436721.010000</td>\n",
       "      <td>14075.000000</td>\n",
       "      <td>2702.000000</td>\n",
       "      <td>668.000000</td>\n",
       "      <td>113.000000</td>\n",
       "      <td>339088.000000</td>\n",
       "      <td>594111.000000</td>\n",
       "      <td>92835.000000</td>\n",
       "      <td>1.035979e+06</td>\n",
       "      <td>40430.000000</td>\n",
       "      <td>81766.000000</td>\n",
       "    </tr>\n",
       "  </tbody>\n",
       "</table>\n",
       "</div>"
      ],
      "text/plain": [
       "       Уставный капитал, млн RUB  Налоги, млн RUB  \\\n",
       "count                 354.000000       219.000000   \n",
       "mean                 3631.314237       542.374429   \n",
       "std                 25354.505264      1024.778815   \n",
       "min                     0.000000        60.000000   \n",
       "25%                     0.100000       207.000000   \n",
       "50%                     9.175000       334.000000   \n",
       "75%                   456.857500       554.000000   \n",
       "max                436721.010000     14075.000000   \n",
       "\n",
       "       Страховые взносы в ПФР, млн RUB  Страховые взносы в ФОМС, млн RUB  \\\n",
       "count                       219.000000                        219.000000   \n",
       "mean                        153.872146                         44.105023   \n",
       "std                         215.911068                         56.235032   \n",
       "min                          19.000000                          4.000000   \n",
       "25%                          76.000000                         22.000000   \n",
       "50%                         110.000000                         31.000000   \n",
       "75%                         164.500000                         44.500000   \n",
       "max                        2702.000000                        668.000000   \n",
       "\n",
       "       Страховые взносы в ФСС, млн RUB  Основные средства , млн RUB  \\\n",
       "count                       199.000000                   352.000000   \n",
       "mean                          5.904523                  7477.903409   \n",
       "std                          12.023375                 29896.097929   \n",
       "min                           0.000000                     0.000000   \n",
       "25%                           1.000000                   100.750000   \n",
       "50%                           3.000000                   540.000000   \n",
       "75%                           5.500000                  2782.000000   \n",
       "max                         113.000000                339088.000000   \n",
       "\n",
       "       Чистые активы, млн RUB  Запасы, млн RUB  Выручка, млн RUB  \\\n",
       "count              354.000000       350.000000      3.540000e+02   \n",
       "mean              9687.426554      2492.577143      1.850670e+04   \n",
       "std              41433.184453      7613.135442      6.589110e+04   \n",
       "min             -13777.000000         0.000000      8.070000e+02   \n",
       "25%                363.250000        83.250000      2.038250e+03   \n",
       "50%               1378.000000       599.000000      4.636000e+03   \n",
       "75%               4278.500000      1993.500000      1.130100e+04   \n",
       "max             594111.000000     92835.000000      1.035979e+06   \n",
       "\n",
       "       Чистая прибыль (убыток), млн RUB  Оплата труда, млн RUB  \n",
       "count                        353.000000             354.000000  \n",
       "mean                         834.467422            2062.983051  \n",
       "std                         4742.006692            6407.350212  \n",
       "min                       -52138.000000             401.000000  \n",
       "25%                           29.000000             554.750000  \n",
       "50%                          150.000000             836.000000  \n",
       "75%                          612.000000            1452.500000  \n",
       "max                        40430.000000           81766.000000  "
      ]
     },
     "execution_count": 8,
     "metadata": {},
     "output_type": "execute_result"
    }
   ],
   "source": [
    "data.describe()"
   ]
  },
  {
   "cell_type": "code",
   "execution_count": 9,
   "metadata": {},
   "outputs": [
    {
     "name": "stdout",
     "output_type": "stream",
     "text": [
      "<class 'pandas.core.frame.DataFrame'>\n",
      "Index: 354 entries, 1-2CN8JI to 1-PAC1R\n",
      "Data columns (total 12 columns):\n",
      " #   Column                                  Non-Null Count  Dtype  \n",
      "---  ------                                  --------------  -----  \n",
      " 0   Уставный капитал, млн RUB               354 non-null    float64\n",
      " 1   Налоги, млн RUB                         219 non-null    float64\n",
      " 2   Страховые взносы в ПФР, млн RUB         219 non-null    float64\n",
      " 3   Страховые взносы в ФОМС, млн RUB        219 non-null    float64\n",
      " 4   Страховые взносы в ФСС, млн RUB         199 non-null    float64\n",
      " 5   Основные средства , млн RUB             352 non-null    float64\n",
      " 6   Чистые активы, млн RUB                  354 non-null    int64  \n",
      " 7   Запасы, млн RUB                         350 non-null    float64\n",
      " 8   Выручка, млн RUB                        354 non-null    int64  \n",
      " 9   Чистая прибыль (убыток), млн RUB        353 non-null    float64\n",
      " 10  Среднесписочная численность работников  319 non-null    object \n",
      " 11  Оплата труда, млн RUB                   354 non-null    int64  \n",
      "dtypes: float64(8), int64(3), object(1)\n",
      "memory usage: 36.0+ KB\n"
     ]
    }
   ],
   "source": [
    "data.info()"
   ]
  },
  {
   "cell_type": "code",
   "execution_count": 10,
   "metadata": {},
   "outputs": [
    {
     "data": {
      "text/plain": [
       "Уставный капитал, млн RUB                   0\n",
       "Налоги, млн RUB                           135\n",
       "Страховые взносы в ПФР, млн RUB           135\n",
       "Страховые взносы в ФОМС, млн RUB          135\n",
       "Страховые взносы в ФСС, млн RUB           155\n",
       "Основные средства , млн RUB                 2\n",
       "Чистые активы, млн RUB                      0\n",
       "Запасы, млн RUB                             4\n",
       "Выручка, млн RUB                            0\n",
       "Чистая прибыль (убыток), млн RUB            1\n",
       "Среднесписочная численность работников     35\n",
       "Оплата труда, млн RUB                       0\n",
       "dtype: int64"
      ]
     },
     "execution_count": 10,
     "metadata": {},
     "output_type": "execute_result"
    }
   ],
   "source": [
    "# Проверяем количество пропусков\n",
    "pd.isnull(data).sum()"
   ]
  },
  {
   "cell_type": "markdown",
   "metadata": {},
   "source": [
    "## Обработка пропусков"
   ]
  },
  {
   "cell_type": "markdown",
   "metadata": {},
   "source": [
    "Заполним пропущенные данные медианными значениями"
   ]
  },
  {
   "cell_type": "code",
   "execution_count": 11,
   "metadata": {},
   "outputs": [],
   "source": [
    "data = data.fillna(data.median(axis=0), axis=0)"
   ]
  },
  {
   "cell_type": "code",
   "execution_count": 12,
   "metadata": {},
   "outputs": [
    {
     "data": {
      "text/plain": [
       "Уставный капитал, млн RUB                 354\n",
       "Налоги, млн RUB                           354\n",
       "Страховые взносы в ПФР, млн RUB           354\n",
       "Страховые взносы в ФОМС, млн RUB          354\n",
       "Страховые взносы в ФСС, млн RUB           354\n",
       "Основные средства , млн RUB               354\n",
       "Чистые активы, млн RUB                    354\n",
       "Запасы, млн RUB                           354\n",
       "Выручка, млн RUB                          354\n",
       "Чистая прибыль (убыток), млн RUB          354\n",
       "Среднесписочная численность работников    319\n",
       "Оплата труда, млн RUB                     354\n",
       "dtype: int64"
      ]
     },
     "execution_count": 12,
     "metadata": {},
     "output_type": "execute_result"
    }
   ],
   "source": [
    "data.count(axis=0)"
   ]
  },
  {
   "cell_type": "code",
   "execution_count": 13,
   "metadata": {},
   "outputs": [
    {
     "data": {
      "text/plain": [
       "Уставный капитал, млн RUB                  0\n",
       "Налоги, млн RUB                            0\n",
       "Страховые взносы в ПФР, млн RUB            0\n",
       "Страховые взносы в ФОМС, млн RUB           0\n",
       "Страховые взносы в ФСС, млн RUB            0\n",
       "Основные средства , млн RUB                0\n",
       "Чистые активы, млн RUB                     0\n",
       "Запасы, млн RUB                            0\n",
       "Выручка, млн RUB                           0\n",
       "Чистая прибыль (убыток), млн RUB           0\n",
       "Среднесписочная численность работников    35\n",
       "Оплата труда, млн RUB                      0\n",
       "dtype: int64"
      ]
     },
     "execution_count": 13,
     "metadata": {},
     "output_type": "execute_result"
    }
   ],
   "source": [
    "pd.isnull(data).sum()"
   ]
  },
  {
   "cell_type": "markdown",
   "metadata": {},
   "source": [
    "На первом этапе стоит задача в предсказании фода оплаты труда, в качестве эксперимента попробуем выполнить задачу без информации и среднесписочной численности сотрудников"
   ]
  },
  {
   "cell_type": "code",
   "execution_count": 14,
   "metadata": {},
   "outputs": [],
   "source": [
    "del data['Среднесписочная численность работников']"
   ]
  },
  {
   "cell_type": "code",
   "execution_count": 15,
   "metadata": {},
   "outputs": [
    {
     "data": {
      "text/plain": [
       "float64    8\n",
       "int64      3\n",
       "dtype: int64"
      ]
     },
     "execution_count": 15,
     "metadata": {},
     "output_type": "execute_result"
    }
   ],
   "source": [
    "#анализируем типы данных в разрезе признаков\n",
    "data.dtypes.value_counts()"
   ]
  },
  {
   "cell_type": "code",
   "execution_count": 16,
   "metadata": {
    "scrolled": true
   },
   "outputs": [
    {
     "data": {
      "image/png": "[encoded data removed]",
      "text/plain": [
       "<Figure size 720x720 with 2 Axes>"
      ]
     },
     "metadata": {
      "needs_background": "light"
     },
     "output_type": "display_data"
    }
   ],
   "source": [
    "#строим матрицу корреляции\n",
    "plt.subplots(figsize=(10, 10))\n",
    "sn.heatmap(data.corr(), square=True, annot=True)\n",
    "plt.show()"
   ]
  },
  {
   "cell_type": "code",
   "execution_count": 17,
   "metadata": {},
   "outputs": [
    {
     "data": {
      "image/png": "[encoded data removed]",
      "text/plain": [
       "<Figure size 432x288 with 1 Axes>"
      ]
     },
     "metadata": {
      "needs_background": "light"
     },
     "output_type": "display_data"
    }
   ],
   "source": [
    "# построим график зависимости ФОТ и выручки(наибольшая корреляция)\n",
    "plt.scatter(data['Оплата труда, млн RUB'], data['Выручка, млн RUB'])\n",
    "plt.show()"
   ]
  },
  {
   "cell_type": "code",
   "execution_count": 18,
   "metadata": {},
   "outputs": [
    {
     "data": {
      "image/png": "[encoded data removed]",
      "text/plain": [
       "<Figure size 432x288 with 1 Axes>"
      ]
     },
     "metadata": {
      "needs_background": "light"
     },
     "output_type": "display_data"
    }
   ],
   "source": [
    "plt.scatter(data['Оплата труда, млн RUB'], data['Основные средства , млн RUB'])\n",
    "plt.show()"
   ]
  },
  {
   "cell_type": "code",
   "execution_count": 19,
   "metadata": {},
   "outputs": [
    {
     "data": {
      "image/png": "[encoded data removed]",
      "text/plain": [
       "<Figure size 432x288 with 1 Axes>"
      ]
     },
     "metadata": {
      "needs_background": "light"
     },
     "output_type": "display_data"
    }
   ],
   "source": [
    "# Отобразим зависимость на трехмерном графике\n",
    "fig = plt.figure()\n",
    "ax = fig.add_subplot(111, projection='3d')\n",
    "ax.scatter(data['Выручка, млн RUB'], data['Основные средства , млн RUB'], data['Оплата труда, млн RUB'])\n",
    "plt.show()"
   ]
  },
  {
   "cell_type": "markdown",
   "metadata": {},
   "source": [
    "# Обучение"
   ]
  },
  {
   "cell_type": "code",
   "execution_count": 25,
   "metadata": {},
   "outputs": [],
   "source": [
    "df = data.copy()"
   ]
  },
  {
   "cell_type": "code",
   "execution_count": 26,
   "metadata": {},
   "outputs": [],
   "source": [
    "y = df['Оплата труда, млн RUB']"
   ]
  },
  {
   "cell_type": "code",
   "execution_count": 27,
   "metadata": {},
   "outputs": [],
   "source": [
    "df['ones'] = 1"
   ]
  },
  {
   "cell_type": "code",
   "execution_count": 28,
   "metadata": {},
   "outputs": [],
   "source": [
    "X = df.drop(['Оплата труда, млн RUB'], axis=1)"
   ]
  },
  {
   "cell_type": "code",
   "execution_count": 29,
   "metadata": {},
   "outputs": [],
   "source": [
    "#X = np.array(X)\n",
    "#y = np.array(y)"
   ]
  },
  {
   "cell_type": "code",
   "execution_count": 30,
   "metadata": {},
   "outputs": [
    {
     "data": {
      "text/plain": [
       "354"
      ]
     },
     "execution_count": 30,
     "metadata": {},
     "output_type": "execute_result"
    }
   ],
   "source": [
    "len(X)"
   ]
  },
  {
   "cell_type": "code",
   "execution_count": 31,
   "metadata": {},
   "outputs": [],
   "source": [
    "#функция для выисления доли треновочной выбрки\n",
    "#def get_partTrain(n):\n",
    "#    Ntrain = n*354//100\n",
    "#    return Ntrain\n",
    "\n",
    "#Ntrain = get_partTrain(30)"
   ]
  },
  {
   "cell_type": "code",
   "execution_count": 32,
   "metadata": {},
   "outputs": [],
   "source": [
    "#разбиваем данные на тестовую и тренировочную выборки\n",
    "\n",
    "#X_test, y_test = X[:Ntrain], y[:Ntrain]\n",
    "#X_train, y_train = X[Ntrain:], y[Ntrain:]"
   ]
  },
  {
   "cell_type": "markdown",
   "metadata": {},
   "source": [
    "## Линейная регрессия"
   ]
  },
  {
   "cell_type": "code",
   "execution_count": 33,
   "metadata": {},
   "outputs": [],
   "source": [
    "# Построим прогноз с помощью линейной регрессии\n",
    "def lin_reg(X, y):\n",
    "    w = np.linalg.solve(X.T.dot(X), X.T.dot(y) )\n",
    "    y_pred = X.dot(w)\n",
    "    return y_pred"
   ]
  },
  {
   "cell_type": "code",
   "execution_count": 34,
   "metadata": {},
   "outputs": [],
   "source": [
    "y_pred = lin_reg(X, y)"
   ]
  },
  {
   "cell_type": "code",
   "execution_count": 35,
   "metadata": {},
   "outputs": [],
   "source": [
    "# коэффициент детерминации\n",
    "def get_r2(y, y_pred):\n",
    "    d1 = y - y_pred\n",
    "    d2 = y - y.mean()\n",
    "    r2 = 1 - d1.dot(d1) / d2.dot(d2)\n",
    "    return r2"
   ]
  },
  {
   "cell_type": "code",
   "execution_count": 36,
   "metadata": {},
   "outputs": [
    {
     "name": "stdout",
     "output_type": "stream",
     "text": [
      "r2: 0.8328990744222866\n"
     ]
    }
   ],
   "source": [
    "# вычислим коэффициент детерминации\n",
    "r2 = get_r2(y, y_pred)\n",
    "print(\"r2:\", r2)"
   ]
  },
  {
   "cell_type": "code",
   "execution_count": 37,
   "metadata": {},
   "outputs": [],
   "source": [
    "#проверим на тестовой выборке\n",
    "#y_pred = lin_reg(X_test, y_test)\n",
    "#r2 = get_r2(y_test, y_pred)\n",
    "#print(\"r2:\", r2)"
   ]
  },
  {
   "cell_type": "code",
   "execution_count": 38,
   "metadata": {},
   "outputs": [
    {
     "data": {
      "image/png": "[encoded data removed]",
      "text/plain": [
       "<Figure size 432x288 with 1 Axes>"
      ]
     },
     "metadata": {
      "needs_background": "light"
     },
     "output_type": "display_data"
    }
   ],
   "source": [
    "# сравним фактические данные с предсказанными\n",
    "plt.plot(y, label='actual')\n",
    "plt.plot(y_pred, label='predict')\n",
    "plt.legend()\n",
    "plt.show()"
   ]
  },
  {
   "cell_type": "markdown",
   "metadata": {},
   "source": [
    "### L2 регуляризация"
   ]
  },
  {
   "cell_type": "markdown",
   "metadata": {},
   "source": [
    "Так как данные имеют выбросы попробуем улучшить результат предсказаний с помощью L2 регуляризации"
   ]
  },
  {
   "cell_type": "code",
   "execution_count": 39,
   "metadata": {},
   "outputs": [],
   "source": [
    "# Построим прогноз с помощью линейной регрессии с L2 регуляризацией\n",
    "def lin_reg_L2(X, y):\n",
    "    l2 = 1000.0\n",
    "    w = np.linalg.solve(l2*np.eye(11) + X.T.dot(X), X.T.dot(y) )\n",
    "    y_pred = X.dot(w)\n",
    "    return y_pred"
   ]
  },
  {
   "cell_type": "code",
   "execution_count": 40,
   "metadata": {},
   "outputs": [],
   "source": [
    "y_pred = lin_reg_L2(X, y)"
   ]
  },
  {
   "cell_type": "code",
   "execution_count": 41,
   "metadata": {},
   "outputs": [],
   "source": [
    "def get_r2(y, y_pred):\n",
    "    d1 = y - y_pred\n",
    "    d2 = y - y.mean()\n",
    "    r2 = 1 - d1.dot(d1) / d2.dot(d2)\n",
    "    return r2"
   ]
  },
  {
   "cell_type": "code",
   "execution_count": 42,
   "metadata": {},
   "outputs": [
    {
     "name": "stdout",
     "output_type": "stream",
     "text": [
      "r2: 0.8322351628846525\n"
     ]
    }
   ],
   "source": [
    "# вычислим коэффициент детерминации на тренирочной выборке\n",
    "r2 = get_r2(y, y_pred)\n",
    "print(\"r2:\", r2)"
   ]
  },
  {
   "cell_type": "code",
   "execution_count": 43,
   "metadata": {},
   "outputs": [],
   "source": [
    "#проверим на тестовой выборке\n",
    "#y_pred = lin_reg_L2(X_test, y_test)\n",
    "#r2 = get_r2(y_test, y_pred)\n",
    "#print(\"r2:\", r2)"
   ]
  },
  {
   "cell_type": "code",
   "execution_count": 44,
   "metadata": {},
   "outputs": [
    {
     "data": {
      "image/png": "[encoded data removed]",
      "text/plain": [
       "<Figure size 432x288 with 1 Axes>"
      ]
     },
     "metadata": {
      "needs_background": "light"
     },
     "output_type": "display_data"
    }
   ],
   "source": [
    "# сравним фактические данные с предсказанными\n",
    "plt.plot(y, label='actual')\n",
    "plt.plot(y_pred, label='predict')\n",
    "plt.legend()\n",
    "plt.show()"
   ]
  },
  {
   "cell_type": "markdown",
   "metadata": {},
   "source": [
    "Результат предсказани без регуляризации оказался немного лучше чем после применения L2"
   ]
  },
  {
   "cell_type": "code",
   "execution_count": 50,
   "metadata": {},
   "outputs": [],
   "source": [
    "predict_data = data.copy()"
   ]
  },
  {
   "cell_type": "code",
   "execution_count": 56,
   "metadata": {},
   "outputs": [],
   "source": [
    "predict_data['Оплата труда, прогноз'] = y_pred.astype('int')"
   ]
  },
  {
   "cell_type": "code",
   "execution_count": 57,
   "metadata": {},
   "outputs": [],
   "source": [
    "predict_data.reset_index(level=0, inplace=True)"
   ]
  },
  {
   "cell_type": "code",
   "execution_count": 58,
   "metadata": {},
   "outputs": [
    {
     "data": {
      "text/html": [
       "<div>\n",
       "<style scoped>\n",
       "    .dataframe tbody tr th:only-of-type {\n",
       "        vertical-align: middle;\n",
       "    }\n",
       "\n",
       "    .dataframe tbody tr th {\n",
       "        vertical-align: top;\n",
       "    }\n",
       "\n",
       "    .dataframe thead th {\n",
       "        text-align: right;\n",
       "    }\n",
       "</style>\n",
       "<table border=\"1\" class=\"dataframe\">\n",
       "  <thead>\n",
       "    <tr style=\"text-align: right;\">\n",
       "      <th></th>\n",
       "      <th>ID</th>\n",
       "      <th>Уставный капитал, млн RUB</th>\n",
       "      <th>Налоги, млн RUB</th>\n",
       "      <th>Страховые взносы в ПФР, млн RUB</th>\n",
       "      <th>Страховые взносы в ФОМС, млн RUB</th>\n",
       "      <th>Страховые взносы в ФСС, млн RUB</th>\n",
       "      <th>Основные средства , млн RUB</th>\n",
       "      <th>Чистые активы, млн RUB</th>\n",
       "      <th>Запасы, млн RUB</th>\n",
       "      <th>Выручка, млн RUB</th>\n",
       "      <th>Чистая прибыль (убыток), млн RUB</th>\n",
       "      <th>Оплата труда, млн RUB</th>\n",
       "      <th>Оплата труда, прогноз</th>\n",
       "    </tr>\n",
       "  </thead>\n",
       "  <tbody>\n",
       "    <tr>\n",
       "      <th>0</th>\n",
       "      <td>1-2CN8JI</td>\n",
       "      <td>354.58</td>\n",
       "      <td>334.0</td>\n",
       "      <td>110.0</td>\n",
       "      <td>31.0</td>\n",
       "      <td>3.0</td>\n",
       "      <td>390.0</td>\n",
       "      <td>1529</td>\n",
       "      <td>1539.0</td>\n",
       "      <td>2322</td>\n",
       "      <td>518.0</td>\n",
       "      <td>469</td>\n",
       "      <td>481</td>\n",
       "    </tr>\n",
       "    <tr>\n",
       "      <th>1</th>\n",
       "      <td>1-1ESSMI0W</td>\n",
       "      <td>0.17</td>\n",
       "      <td>390.0</td>\n",
       "      <td>279.0</td>\n",
       "      <td>77.0</td>\n",
       "      <td>9.0</td>\n",
       "      <td>1824.0</td>\n",
       "      <td>2847</td>\n",
       "      <td>116.0</td>\n",
       "      <td>3373</td>\n",
       "      <td>245.0</td>\n",
       "      <td>1912</td>\n",
       "      <td>1483</td>\n",
       "    </tr>\n",
       "    <tr>\n",
       "      <th>2</th>\n",
       "      <td>1-OZWLA</td>\n",
       "      <td>0.06</td>\n",
       "      <td>334.0</td>\n",
       "      <td>110.0</td>\n",
       "      <td>31.0</td>\n",
       "      <td>3.0</td>\n",
       "      <td>1305.0</td>\n",
       "      <td>1515</td>\n",
       "      <td>745.0</td>\n",
       "      <td>1181</td>\n",
       "      <td>5.0</td>\n",
       "      <td>577</td>\n",
       "      <td>643</td>\n",
       "    </tr>\n",
       "    <tr>\n",
       "      <th>3</th>\n",
       "      <td>1-BD0B7</td>\n",
       "      <td>9.01</td>\n",
       "      <td>743.0</td>\n",
       "      <td>209.0</td>\n",
       "      <td>50.0</td>\n",
       "      <td>3.0</td>\n",
       "      <td>35.0</td>\n",
       "      <td>7312</td>\n",
       "      <td>3470.0</td>\n",
       "      <td>10012</td>\n",
       "      <td>585.0</td>\n",
       "      <td>1259</td>\n",
       "      <td>1658</td>\n",
       "    </tr>\n",
       "    <tr>\n",
       "      <th>4</th>\n",
       "      <td>1-MDDDW</td>\n",
       "      <td>918.90</td>\n",
       "      <td>334.0</td>\n",
       "      <td>110.0</td>\n",
       "      <td>31.0</td>\n",
       "      <td>3.0</td>\n",
       "      <td>3747.0</td>\n",
       "      <td>7362</td>\n",
       "      <td>6557.0</td>\n",
       "      <td>114517</td>\n",
       "      <td>1648.0</td>\n",
       "      <td>12725</td>\n",
       "      <td>8343</td>\n",
       "    </tr>\n",
       "  </tbody>\n",
       "</table>\n",
       "</div>"
      ],
      "text/plain": [
       "           ID  Уставный капитал, млн RUB  Налоги, млн RUB  \\\n",
       "0    1-2CN8JI                     354.58            334.0   \n",
       "1  1-1ESSMI0W                       0.17            390.0   \n",
       "2     1-OZWLA                       0.06            334.0   \n",
       "3     1-BD0B7                       9.01            743.0   \n",
       "4     1-MDDDW                     918.90            334.0   \n",
       "\n",
       "   Страховые взносы в ПФР, млн RUB  Страховые взносы в ФОМС, млн RUB  \\\n",
       "0                            110.0                              31.0   \n",
       "1                            279.0                              77.0   \n",
       "2                            110.0                              31.0   \n",
       "3                            209.0                              50.0   \n",
       "4                            110.0                              31.0   \n",
       "\n",
       "   Страховые взносы в ФСС, млн RUB  Основные средства , млн RUB  \\\n",
       "0                              3.0                        390.0   \n",
       "1                              9.0                       1824.0   \n",
       "2                              3.0                       1305.0   \n",
       "3                              3.0                         35.0   \n",
       "4                              3.0                       3747.0   \n",
       "\n",
       "   Чистые активы, млн RUB  Запасы, млн RUB  Выручка, млн RUB  \\\n",
       "0                    1529           1539.0              2322   \n",
       "1                    2847            116.0              3373   \n",
       "2                    1515            745.0              1181   \n",
       "3                    7312           3470.0             10012   \n",
       "4                    7362           6557.0            114517   \n",
       "\n",
       "   Чистая прибыль (убыток), млн RUB  Оплата труда, млн RUB  \\\n",
       "0                             518.0                    469   \n",
       "1                             245.0                   1912   \n",
       "2                               5.0                    577   \n",
       "3                             585.0                   1259   \n",
       "4                            1648.0                  12725   \n",
       "\n",
       "   Оплата труда, прогноз  \n",
       "0                    481  \n",
       "1                   1483  \n",
       "2                    643  \n",
       "3                   1658  \n",
       "4                   8343  "
      ]
     },
     "execution_count": 58,
     "metadata": {},
     "output_type": "execute_result"
    }
   ],
   "source": [
    "predict_data.head(5)"
   ]
  },
  {
   "cell_type": "code",
   "execution_count": 61,
   "metadata": {},
   "outputs": [],
   "source": [
    "predict_data.to_csv('./data/predict_data.csv')"
   ]
  }
 ],
 "metadata": {
  "kernelspec": {
   "display_name": "Python 3",
   "language": "python",
   "name": "python3"
  },
  "language_info": {
   "codemirror_mode": {
    "name": "ipython",
    "version": 3
   },
   "file_extension": ".py",
   "mimetype": "text/x-python",
   "name": "python",
   "nbconvert_exporter": "python",
   "pygments_lexer": "ipython3",
   "version": "3.6.10"
  },
  "toc": {
   "base_numbering": 1,
   "nav_menu": {},
   "number_sections": true,
   "sideBar": true,
   "skip_h1_title": false,
   "title_cell": "Table of Contents",
   "title_sidebar": "Contents",
   "toc_cell": false,
   "toc_position": {
    "height": "calc(100% - 180px)",
    "left": "10px",
    "top": "150px",
    "width": "337.273px"
   },
   "toc_section_display": true,
   "toc_window_display": true
  }
 },
 "nbformat": 4,
 "nbformat_minor": 4
}
